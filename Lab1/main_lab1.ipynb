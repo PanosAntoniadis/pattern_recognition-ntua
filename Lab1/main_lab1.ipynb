{
 "cells": [
  {
   "cell_type": "markdown",
   "metadata": {},
   "source": [
    "# <center>Lab 1</center>"
   ]
  },
  {
   "cell_type": "markdown",
   "metadata": {},
   "source": [
    "## <center> Optical Digit Recognition </center>"
   ]
  },
  {
   "cell_type": "markdown",
   "metadata": {},
   "source": [
    "<img src=./digits-classification.jpg>"
   ]
  },
  {
   "cell_type": "markdown",
   "metadata": {},
   "source": [
    "### Description:"
   ]
  },
  {
   "cell_type": "markdown",
   "metadata": {},
   "source": [
    "The scope of this exercise is the implementation of __an optical digit recognition system__. Our dataset comes from __US Postal Service__, written by hand (scanned from postal envelopes), and contains digits from 0 to 9 separated in train and test set."
   ]
  },
  {
   "cell_type": "markdown",
   "metadata": {},
   "source": [
    "### Data:"
   ]
  },
  {
   "cell_type": "markdown",
   "metadata": {},
   "source": [
    "We are given two text files (train.txt and text.txt). Each line corresponds to a sample-digit and each collumn corresponds to a features of the digit. For example, the value (i, j) is the j-th feature of the i-th digit. Every digit is described from 257 values. The first value is the class (if it is 0, 1 etc) and the rest 256 values are the pixels that describe it in grayscale. "
   ]
  },
  {
   "cell_type": "markdown",
   "metadata": {},
   "source": [
    "### Implementation:"
   ]
  },
  {
   "cell_type": "markdown",
   "metadata": {},
   "source": [
    "First, we import all the necessary libraries and suppress some unnecessary warnings."
   ]
  },
  {
   "cell_type": "code",
   "execution_count": 1,
   "metadata": {},
   "outputs": [],
   "source": [
    "# various\n",
    "import numpy as np\n",
    "from matplotlib import pyplot as plt\n",
    "import random\n",
    "import scipy.stats\n",
    "\n",
    "# sklearn \n",
    "from sklearn.base import BaseEstimator, ClassifierMixin\n",
    "from sklearn.model_selection import KFold, learning_curve, ShuffleSplit, cross_val_score, train_test_split\n",
    "from sklearn.svm import SVC\n",
    "from sklearn.metrics.pairwise import euclidean_distances\n",
    "from sklearn.decomposition import PCA\n",
    "from sklearn.naive_bayes import GaussianNB\n",
    "from sklearn.neighbors import KNeighborsClassifier\n",
    "from sklearn.ensemble import RandomForestClassifier, VotingClassifier, BaggingClassifier\n",
    "\n",
    "# pytorch\n",
    "from torch.utils.data import Dataset, DataLoader\n",
    "import torch\n",
    "from torch import nn\n",
    "from torch import optim"
   ]
  },
  {
   "cell_type": "code",
   "execution_count": 2,
   "metadata": {},
   "outputs": [],
   "source": [
    "import warnings\n",
    "warnings.simplefilter(action='ignore', category=FutureWarning)"
   ]
  },
  {
   "cell_type": "markdown",
   "metadata": {},
   "source": [
    "#### The first 13 steps were implemented as a part of the PrepareLab located in prepare_lab folder."
   ]
  },
  {
   "cell_type": "markdown",
   "metadata": {},
   "source": [
    "__Step 1:__ Read input data from given text files."
   ]
  },
  {
   "cell_type": "code",
   "execution_count": 3,
   "metadata": {},
   "outputs": [
    {
     "name": "stdout",
     "output_type": "stream",
     "text": [
      "Finished reading training data.\n",
      "Finished reading test data.\n"
     ]
    }
   ],
   "source": [
    "# Define useful variables\n",
    "data_path = \"./pr_lab1_2016-17_data_0/pr_lab1_2016-17_data\"\n",
    "train_size = 7291\n",
    "test_size = 2007\n",
    "n_features = 256\n",
    "\n",
    "# Initialize X_train, X_test, y_train, y_test\n",
    "X_train = np.zeros((train_size, n_features), dtype=np.float64)\n",
    "X_test = np.zeros((test_size, n_features), dtype=np.float64)\n",
    "y_train = np.zeros(train_size, dtype='int64')\n",
    "y_test = np.zeros(test_size, dtype='int64')\n",
    "\n",
    "# Read train data\n",
    "with open(data_path + \"/train.txt\") as f:\n",
    "    for i, line in enumerate(f):\n",
    "        # Split i-th line\n",
    "        line = line.split()\n",
    "        # Keep the first collumn as the class of the i-th digit\n",
    "        y_train[i] = int(float(line[0]))\n",
    "        # Keep the rest 256 values as the pixels of the i-th digit.\n",
    "        for j, pixel in enumerate(line[1:]):\n",
    "            X_train[i][j] = pixel\n",
    "    print(\"Finished reading training data.\")\n",
    "\n",
    "# Read test data\n",
    "with open(data_path + \"/test.txt\") as f:\n",
    "    for i, line in enumerate(f):\n",
    "        # Split i-th line\n",
    "        line = line.split()\n",
    "        # Keep the first collumn as the class of the i-th digit\n",
    "        y_test[i] = int(float(line[0]))\n",
    "        # Keep the rest 256 values as the pixels of the i-th digit.\n",
    "        for j, pixel in enumerate(line[1:]):\n",
    "            X_test[i][j] = pixel\n",
    "    print(\"Finished reading test data.\")"
   ]
  },
  {
   "cell_type": "markdown",
   "metadata": {},
   "source": [
    "__Step 2:__ Display a certain sample (index 131) as an 16x16 image."
   ]
  },
  {
   "cell_type": "code",
   "execution_count": 4,
   "metadata": {},
   "outputs": [
    {
     "data": {
      "text/plain": [
       "<matplotlib.image.AxesImage at 0x7f36b4e43cf8>"
      ]
     },
     "execution_count": 4,
     "metadata": {},
     "output_type": "execute_result"
    },
    {
     "data": {
      "image/png": "[encoded data removed]",
      "text/plain": [
       "<Figure size 432x288 with 1 Axes>"
      ]
     },
     "metadata": {
      "needs_background": "light"
     },
     "output_type": "display_data"
    }
   ],
   "source": [
    "# Reshape the 256 vector in a 16x16 matrix.\n",
    "img_131 = np.reshape(X_train[131], (16, 16)) \n",
    "# Turn the axis off and display the image.\n",
    "plt.axis('off')\n",
    "plt.imshow(img_131)"
   ]
  },
  {
   "cell_type": "markdown",
   "metadata": {},
   "source": [
    "__Step 3:__ Display one random image from each digit."
   ]
  },
  {
   "cell_type": "code",
   "execution_count": 5,
   "metadata": {},
   "outputs": [
    {
     "data": {
      "image/png": "[encoded data removed]",
      "text/plain": [
       "<Figure size 1080x432 with 10 Axes>"
      ]
     },
     "metadata": {
      "needs_background": "light"
     },
     "output_type": "display_data"
    }
   ],
   "source": [
    "# Define a figure with 10 plots.\n",
    "fig = plt.figure(figsize=(15,6))\n",
    "columns = 5\n",
    "rows = 2\n",
    "\n",
    "for digit in range(10):\n",
    "    # Pick all images of current digit\n",
    "    curr_data = []\n",
    "    for j, y in enumerate(y_train):\n",
    "        if y == digit:\n",
    "            curr_data.append(X_train[j])\n",
    "    # Select randomly an image\n",
    "    sample = random.choice(curr_data)\n",
    "    # Display the randomly selected image in a subplot\n",
    "    fig.add_subplot(rows, columns, digit+1)\n",
    "    plt.axis('off')\n",
    "    plt.imshow(np.reshape(sample, (16, 16)))\n",
    "plt.show()"
   ]
  },
  {
   "cell_type": "markdown",
   "metadata": {},
   "source": [
    "__Step 4:__ Compute the mean value of pixel (10,10) of all 0's in the train set."
   ]
  },
  {
   "cell_type": "code",
   "execution_count": 6,
   "metadata": {},
   "outputs": [
    {
     "name": "stdout",
     "output_type": "stream",
     "text": [
      "Mean value of pixel (10, 10) of all 0's in the train set is: -0.5041884422110553\n"
     ]
    }
   ],
   "source": [
    "# Get indexes of 0's in the train set\n",
    "idx_0 = [i for i in range(train_size) if y_train[i] == 0]\n",
    "\n",
    "# Get pixel (10,10) of all 0's\n",
    "X_train_0_10 = np.take(X_train[:, 10*16+10], idx_0)\n",
    "\n",
    "# Compute mean\n",
    "mean_0_10 = np.mean(X_train_0_10)\n",
    "print(\"Mean value of pixel (10, 10) of all 0's in the train set is: \" + str(mean_0_10))"
   ]
  },
  {
   "cell_type": "markdown",
   "metadata": {},
   "source": [
    "__Step 5:__ Compute variance of (10,10) pixel of all 0's in the train set"
   ]
  },
  {
   "cell_type": "code",
   "execution_count": 7,
   "metadata": {},
   "outputs": [
    {
     "name": "stdout",
     "output_type": "stream",
     "text": [
      "Variance of pixel (10, 10) of all 0's in the train set is: 0.5245221428814929\n"
     ]
    }
   ],
   "source": [
    "var_0_10 = np.var(X_train_0_10)\n",
    "print(\"Variance of pixel (10, 10) of all 0's in the train set is: \" + str(var_0_10))"
   ]
  },
  {
   "cell_type": "markdown",
   "metadata": {},
   "source": [
    "__Step 6:__ Compute mean value and variance of every pixel of 0's in the train set"
   ]
  },
  {
   "cell_type": "code",
   "execution_count": 8,
   "metadata": {},
   "outputs": [
    {
     "name": "stdout",
     "output_type": "stream",
     "text": [
      "Shape of mean values: (1, 256)\n",
      "Shape of variances: (1, 256)\n"
     ]
    }
   ],
   "source": [
    "# Get pixels of all 0's\n",
    "X_train_0 = np.take(X_train, idx_0, axis=0)\n",
    "# Compute mean value along each pixel\n",
    "mean_0 = np.mean(X_train_0, axis=0, keepdims=True)\n",
    "# Compute variance along each pixel\n",
    "var_0 = np.var(X_train_0, axis=0, keepdims=True)\n",
    "\n",
    "# Verify their shape\n",
    "print(\"Shape of mean values: \" + str(mean_0.shape))\n",
    "print(\"Shape of variances: \" + str(var_0.shape))"
   ]
  },
  {
   "cell_type": "markdown",
   "metadata": {},
   "source": [
    "__Step 7:__ Display digit '0' using the mean value of each pixel."
   ]
  },
  {
   "cell_type": "code",
   "execution_count": 9,
   "metadata": {},
   "outputs": [
    {
     "data": {
      "text/plain": [
       "<matplotlib.image.AxesImage at 0x7f36b4e0ed30>"
      ]
     },
     "execution_count": 9,
     "metadata": {},
     "output_type": "execute_result"
    },
    {
     "data": {
      "image/png": "[encoded data removed]",
      "text/plain": [
       "<Figure size 432x288 with 1 Axes>"
      ]
     },
     "metadata": {
      "needs_background": "light"
     },
     "output_type": "display_data"
    }
   ],
   "source": [
    "plt.axis(\"off\")\n",
    "plt.imshow(np.reshape(mean_0, (16, 16)))"
   ]
  },
  {
   "cell_type": "markdown",
   "metadata": {},
   "source": [
    "__Step 8:__ Display '0' using the variance of each pixel."
   ]
  },
  {
   "cell_type": "code",
   "execution_count": 10,
   "metadata": {},
   "outputs": [
    {
     "data": {
      "text/plain": [
       "<matplotlib.image.AxesImage at 0x7f36b4e0e668>"
      ]
     },
     "execution_count": 10,
     "metadata": {},
     "output_type": "execute_result"
    },
    {
     "data": {
      "image/png": "[encoded data removed]",
      "text/plain": [
       "<Figure size 432x288 with 1 Axes>"
      ]
     },
     "metadata": {
      "needs_background": "light"
     },
     "output_type": "display_data"
    }
   ],
   "source": [
    "plt.axis(\"off\")\n",
    "plt.imshow(np.reshape(var_0, (16, 16)))"
   ]
  },
  {
   "cell_type": "markdown",
   "metadata": {},
   "source": [
    "We observe that the digit in the mean-image contains less noise than in the variance-image. However, in both images the digit can be distinguished."
   ]
  },
  {
   "cell_type": "markdown",
   "metadata": {},
   "source": [
    "__Step 9:__ \n",
    "\n",
    "__(a)__ Compute the mean value and the variance for all digits (0-9)."
   ]
  },
  {
   "cell_type": "code",
   "execution_count": 11,
   "metadata": {},
   "outputs": [],
   "source": [
    "mean = np.zeros((10, 256))\n",
    "var = np.zeros((10, 256))\n",
    "\n",
    "for digit in range(10):\n",
    "    idx_i = [i for i in range(train_size) if y_train[i] == digit]\n",
    "    X_train_i = np.take(X_train, idx_i, axis=0)\n",
    "    mean[digit, :] = np.mean(X_train_i, axis=0, keepdims=True)\n",
    "    var[digit, :] = np.var(X_train_i, axis=0, keepdims=True)"
   ]
  },
  {
   "cell_type": "markdown",
   "metadata": {},
   "source": [
    "__(b)__ Display all digits using their computed mean value."
   ]
  },
  {
   "cell_type": "code",
   "execution_count": 12,
   "metadata": {},
   "outputs": [
    {
     "data": {
      "image/png": "[encoded data removed]",
      "text/plain": [
       "<Figure size 1080x432 with 10 Axes>"
      ]
     },
     "metadata": {
      "needs_background": "light"
     },
     "output_type": "display_data"
    }
   ],
   "source": [
    "fig = plt.figure(figsize=(15,6))\n",
    "columns = 5\n",
    "rows = 2\n",
    "\n",
    "for digit in range(10):\n",
    "    fig.add_subplot(rows, columns, digit+1)\n",
    "    plt.axis('off')\n",
    "    plt.imshow(np.reshape(mean[digit, :], (16, 16)))\n",
    "plt.show()"
   ]
  },
  {
   "cell_type": "markdown",
   "metadata": {},
   "source": [
    "__Step 10:__ Classify X_test[101], using Euclidean distance."
   ]
  },
  {
   "cell_type": "code",
   "execution_count": 13,
   "metadata": {},
   "outputs": [
    {
     "name": "stdout",
     "output_type": "stream",
     "text": [
      "Prediction: 0\n",
      "Ground truth: 6\n"
     ]
    }
   ],
   "source": [
    "# Define a function that classifies a sample based on the \n",
    "# euclidean distance.\n",
    "def predict_eucl(x):\n",
    "    pred = 0\n",
    "    dist = np.linalg.norm(x - mean[0, :])\n",
    "\n",
    "    for i in range(1, 10):\n",
    "        if np.linalg.norm(x - mean[i, :]) < dist:\n",
    "            dist = np.linalg.norm(x - mean[i, :])\n",
    "            pred = i\n",
    "    return pred\n",
    "\n",
    "print(\"Prediction: \" + str(predict_eucl(X_test[101])))\n",
    "print(\"Ground truth: \" + str(y_test[101]))"
   ]
  },
  {
   "cell_type": "code",
   "execution_count": 14,
   "metadata": {},
   "outputs": [
    {
     "data": {
      "text/plain": [
       "<matplotlib.image.AxesImage at 0x7f36b43c4550>"
      ]
     },
     "execution_count": 14,
     "metadata": {},
     "output_type": "execute_result"
    },
    {
     "data": {
      "image/png": "[encoded data removed]",
      "text/plain": [
       "<Figure size 432x288 with 1 Axes>"
      ]
     },
     "metadata": {
      "needs_background": "light"
     },
     "output_type": "display_data"
    }
   ],
   "source": [
    "plt.axis('off')\n",
    "plt.imshow(np.reshape(X_test[101], (16, 16)))"
   ]
  },
  {
   "cell_type": "markdown",
   "metadata": {},
   "source": [
    "We observe that the classification is wrong, since X_test[101] is the digit 6."
   ]
  },
  {
   "cell_type": "markdown",
   "metadata": {},
   "source": [
    "__Step 11:__ \n",
    "\n",
    "__(a)__ Classify test set using Euclidean distance"
   ]
  },
  {
   "cell_type": "code",
   "execution_count": 15,
   "metadata": {},
   "outputs": [],
   "source": [
    "# Compute predictions for each test sample\n",
    "y_pred = np.zeros(test_size)\n",
    "\n",
    "for i, x in enumerate(X_test):\n",
    "    y_pred[i] = predict_eucl(x)"
   ]
  },
  {
   "cell_type": "markdown",
   "metadata": {},
   "source": [
    "__(b)__ Compute accuracy"
   ]
  },
  {
   "cell_type": "code",
   "execution_count": 16,
   "metadata": {},
   "outputs": [
    {
     "name": "stdout",
     "output_type": "stream",
     "text": [
      "Accuracy of Euclidean classifier in test set: 81.41504733432984\n"
     ]
    }
   ],
   "source": [
    "# Count number of correct predictions and output the total accuracy.\n",
    "corr = 0\n",
    "for i in range(len(y_test)):\n",
    "    if y_test[i] == y_pred[i]:\n",
    "        corr += 1\n",
    "\n",
    "acc = corr / len(y_test) * 100\n",
    "print(\"Accuracy of Euclidean classifier in test set: \" + str(acc))"
   ]
  },
  {
   "cell_type": "markdown",
   "metadata": {},
   "source": [
    "__Step 12:__ Create a scikit-learn euclidean estimator"
   ]
  },
  {
   "cell_type": "code",
   "execution_count": 17,
   "metadata": {},
   "outputs": [],
   "source": [
    "class EuclideanClassifier(BaseEstimator, ClassifierMixin):  \n",
    "    \"\"\"Classify samples based on the distance from the mean feature value\"\"\"\n",
    "\n",
    "    def __init__(self):\n",
    "        self.X_mean_ = None\n",
    "        self.classes_ = None\n",
    "\n",
    "\n",
    "    def fit(self, X, y):\n",
    "        \"\"\"\n",
    "        This should fit classifier. All the \"work\" should be done here.\n",
    "        \n",
    "        Calculates self.X_mean_ based on the mean \n",
    "        feature values in X for each class.\n",
    "        \n",
    "        self.X_mean_ becomes a numpy.ndarray of shape \n",
    "        (n_classes, n_features)\n",
    "        \n",
    "        fit always returns self.\n",
    "        \"\"\"\n",
    "        \n",
    "        # Compute classes\n",
    "        self.classes_ = np.unique(y)\n",
    "        \n",
    "        train_size, n_features = X.shape\n",
    "        n_classes = len(self.classes_)\n",
    "        self.X_mean_ = np.zeros((n_classes, n_features))\n",
    "\n",
    "        for k in range(n_classes):\n",
    "            idx_i = [i for i in range(train_size) if y[i] == k]\n",
    "            X_k = np.take(X, idx_i, axis=0)\n",
    "            self.X_mean_[k, :] = np.mean(X_k, axis=0, keepdims=True)\n",
    "        \n",
    "        return self\n",
    "\n",
    "\n",
    "    def predict(self, X):\n",
    "        \"\"\"\n",
    "        Make predictions for X based on the\n",
    "        euclidean distance from self.X_mean_\n",
    "        \"\"\"\n",
    "        closest = np.argmin(euclidean_distances(X, self.X_mean_), axis=1)\n",
    "        return closest\n",
    "    \n",
    "    def score(self, X, y):\n",
    "        \"\"\"\n",
    "        Return accuracy score on the predictions\n",
    "        for X based on ground truth y\n",
    "        \"\"\"\n",
    "        corr = 0\n",
    "        y_pred = self.predict(X)\n",
    "        corr = sum(int(y[i] == y_pred[i]) for i in range(len(y)))\n",
    "        acc = corr / len(y)\n",
    "        return acc"
   ]
  },
  {
   "cell_type": "markdown",
   "metadata": {},
   "source": [
    "__Step 13:__\n",
    "\n",
    "__(a)__ Score above euclidean classifier using 5-fold cross-validation"
   ]
  },
  {
   "cell_type": "code",
   "execution_count": 18,
   "metadata": {},
   "outputs": [
    {
     "name": "stdout",
     "output_type": "stream",
     "text": [
      "Euclidean Classifier score from 5-fold cross-validation = 0.848580 +-0.001816\n"
     ]
    }
   ],
   "source": [
    "# Define a custom scorer\n",
    "def my_scorer(clf, X, y_true):\n",
    "    return clf.score(X, y_true)\n",
    "\n",
    "# Create the classifier\n",
    "clf = EuclideanClassifier()\n",
    "scores = cross_val_score(clf, X_train, y_train, \n",
    "                         cv=KFold(n_splits=5, random_state=42), \n",
    "                         scoring=my_scorer)\n",
    "\n",
    "print(\"Euclidean Classifier score from 5-fold cross-validation = %f +-%f\" % (np.mean(scores), np.std(scores)))"
   ]
  },
  {
   "cell_type": "markdown",
   "metadata": {},
   "source": [
    "__(b)__ Plot the decision surface of the euclidean classifier"
   ]
  },
  {
   "cell_type": "code",
   "execution_count": 19,
   "metadata": {},
   "outputs": [],
   "source": [
    "# Define a function that plots the decision surface of 2-dimensional data\n",
    "def plot_clf(clf, X, y, labels):\n",
    "    fig, ax = plt.subplots()\n",
    "    # title for the plots\n",
    "    title = ('Decision surface of Classifier')\n",
    "    # Set-up grid for plotting.\n",
    "    X0, X1 = X[:, 0], X[:, 1]\n",
    "    \n",
    "    \n",
    "    x_min, x_max = X0.min() - 1, X0.max() + 1\n",
    "    y_min, y_max = X1.min() - 1, X1.max() + 1\n",
    "    xx, yy = np.meshgrid(np.arange(x_min, x_max, .05),\n",
    "                         np.arange(y_min, y_max, .05))\n",
    "\n",
    "    Z = clf.predict(np.c_[xx.ravel(), yy.ravel()])\n",
    "    Z = Z.reshape(xx.shape)\n",
    "\n",
    "    out = ax.contourf(xx, yy, Z, cmap=plt.cm.coolwarm, alpha=0.8)\n",
    "    \n",
    "    zero = ax.scatter(\n",
    "        X0[y == 0], X1[y == 0],\n",
    "        c='blue', label=labels[0],\n",
    "        s=60, alpha=0.9, edgecolors='k')\n",
    "    \n",
    "    one = ax.scatter(\n",
    "        X0[y == 1], X1[y == 1],\n",
    "        c='red', label=labels[1], \n",
    "        s=60, alpha=0.9, edgecolors='k')\n",
    "    \n",
    "    two = ax.scatter(\n",
    "        X0[y == 2], X1[y == 2],\n",
    "        c='purple', label=labels[2], \n",
    "        s=60, alpha=0.9, edgecolors='k')\n",
    "    \n",
    "    three = ax.scatter(\n",
    "        X0[y == 3], X1[y == 3],\n",
    "        c='green', label=labels[3],\n",
    "        s=60, alpha=0.9, edgecolors='k')\n",
    "    \n",
    "    four = ax.scatter(\n",
    "        X0[y == 4], X1[y == 4],\n",
    "        c='gray', label=labels[4], \n",
    "        s=60, alpha=0.9, edgecolors='k')\n",
    "    \n",
    "    five = ax.scatter(\n",
    "        X0[y == 5], X1[y == 5],\n",
    "        c='orange', label=labels[5], \n",
    "        s=60, alpha=0.9, edgecolors='k')\n",
    "    \n",
    "    six = ax.scatter(\n",
    "        X0[y == 6], X1[y == 6],\n",
    "        c='black', label=labels[6],\n",
    "        s=60, alpha=0.9, edgecolors='k')\n",
    "    \n",
    "    seven = ax.scatter(\n",
    "        X0[y == 7], X1[y == 7],\n",
    "        c='pink', label=labels[7], \n",
    "        s=60, alpha=0.9, edgecolors='k')\n",
    "    \n",
    "    eight = ax.scatter(\n",
    "        X0[y == 8], X1[y == 8],\n",
    "        c='white', label=labels[8], \n",
    "        s=60, alpha=0.9, edgecolors='k')\n",
    "    \n",
    "    nine = ax.scatter(\n",
    "        X0[y == 9], X1[y == 9],\n",
    "        c='yellow', label=labels[9],\n",
    "        s=60, alpha=0.9, edgecolors='k')\n",
    "\n",
    "    ax.set_xticks(())\n",
    "    ax.set_yticks(())\n",
    "    ax.set_title(title)\n",
    "    ax.legend()\n",
    "    plt.show()"
   ]
  },
  {
   "cell_type": "markdown",
   "metadata": {},
   "source": [
    "Since our data is 256-dimensional, we should apply a dimensionality reduction technique in order to plot them in 3D space. We choose to use PCA."
   ]
  },
  {
   "cell_type": "code",
   "execution_count": 20,
   "metadata": {},
   "outputs": [],
   "source": [
    "# Define PCA\n",
    "pca = PCA(n_components=2)\n",
    "pca.fit(X_train)\n",
    "# Apply PCA on train and test set\n",
    "X_train_2d = pca.transform(X_train)\n",
    "X_test_2d = pca.transform(X_test)"
   ]
  },
  {
   "cell_type": "code",
   "execution_count": 21,
   "metadata": {},
   "outputs": [
    {
     "data": {
      "image/png": "[encoded data removed]",
      "text/plain": [
       "<Figure size 432x288 with 1 Axes>"
      ]
     },
     "metadata": {},
     "output_type": "display_data"
    }
   ],
   "source": [
    "# Train a classifier in th 2D data and plot the decision boundary.\n",
    "clf = EuclideanClassifier()\n",
    "clf.fit(X_train_2d, y_train)\n",
    "\n",
    "plot_clf(clf, X_test_2d, y_test, [i for i in range(10)])"
   ]
  },
  {
   "cell_type": "markdown",
   "metadata": {},
   "source": [
    "The plot is a bit complex, since we have 10 classes instead of 2. "
   ]
  },
  {
   "cell_type": "markdown",
   "metadata": {},
   "source": [
    "__(c)__ Plot the learning curve of the euclidean classifier."
   ]
  },
  {
   "cell_type": "code",
   "execution_count": 22,
   "metadata": {},
   "outputs": [],
   "source": [
    "# Function from https://scikit-learn.org/stable/auto_examples/model_selection/plot_learning_curve.html\n",
    "\n",
    "def plot_learning_curve(estimator, title, X, y, ylim=None, cv=None,\n",
    "                        n_jobs=None, train_sizes=np.linspace(.1, 1.0, 5)):\n",
    "    \"\"\"\n",
    "    Generate a simple plot of the test and training learning curve.\n",
    "\n",
    "    Parameters\n",
    "    ----------\n",
    "    estimator : object type that implements the \"fit\" and \"predict\" methods\n",
    "        An object of that type which is cloned for each validation.\n",
    "\n",
    "    title : string\n",
    "        Title for the chart.\n",
    "\n",
    "    X : array-like, shape (n_samples, n_features)\n",
    "        Training vector, where n_samples is the number of samples and\n",
    "        n_features is the number of features.\n",
    "\n",
    "    y : array-like, shape (n_samples) or (n_samples, n_features), optional\n",
    "        Target relative to X for classification or regression;\n",
    "        None for unsupervised learning.\n",
    "\n",
    "    ylim : tuple, shape (ymin, ymax), optional\n",
    "        Defines minimum and maximum yvalues plotted.\n",
    "\n",
    "    cv : int, cross-validation generator or an iterable, optional\n",
    "        Determines the cross-validation splitting strategy.\n",
    "        Possible inputs for cv are:\n",
    "          - None, to use the default 3-fold cross-validation,\n",
    "          - integer, to specify the number of folds.\n",
    "          - :term:`CV splitter`,\n",
    "          - An iterable yielding (train, test) splits as arrays of indices.\n",
    "\n",
    "        For integer/None inputs, if ``y`` is binary or multiclass,\n",
    "        :class:`StratifiedKFold` used. If the estimator is not a classifier\n",
    "        or if ``y`` is neither binary nor multiclass, :class:`KFold` is used.\n",
    "\n",
    "        Refer :ref:`User Guide <cross_validation>` for the various\n",
    "        cross-validators that can be used here.\n",
    "\n",
    "    n_jobs : int or None, optional (default=None)\n",
    "        Number of jobs to run in parallel.\n",
    "        ``None`` means 1 unless in a :obj:`joblib.parallel_backend` context.\n",
    "        ``-1`` means using all processors. See :term:`Glossary <n_jobs>`\n",
    "        for more details.\n",
    "\n",
    "    train_sizes : array-like, shape (n_ticks,), dtype float or int\n",
    "        Relative or absolute numbers of training examples that will be used to\n",
    "        generate the learning curve. If the dtype is float, it is regarded as a\n",
    "        fraction of the maximum size of the training set (that is determined\n",
    "        by the selected validation method), i.e. it has to be within (0, 1].\n",
    "        Otherwise it is interpreted as absolute sizes of the training sets.\n",
    "        Note that for classification the number of samples usually have to\n",
    "        be big enough to contain at least one sample from each class.\n",
    "        (default: np.linspace(0.1, 1.0, 5))\n",
    "    \"\"\"\n",
    "    plt.figure()\n",
    "    plt.title(title)\n",
    "    if ylim is not None:\n",
    "        plt.ylim(*ylim)\n",
    "    plt.xlabel(\"Training examples\")\n",
    "    plt.ylabel(\"Score\")\n",
    "    train_sizes, train_scores, test_scores = learning_curve(\n",
    "        estimator, X, y, cv=cv, n_jobs=n_jobs, train_sizes=train_sizes)\n",
    "    train_scores_mean = np.mean(train_scores, axis=1)\n",
    "    train_scores_std = np.std(train_scores, axis=1)\n",
    "    test_scores_mean = np.mean(test_scores, axis=1)\n",
    "    test_scores_std = np.std(test_scores, axis=1)\n",
    "    plt.grid()\n",
    "\n",
    "    plt.fill_between(train_sizes, train_scores_mean - train_scores_std,\n",
    "                     train_scores_mean + train_scores_std, alpha=0.1,\n",
    "                     color=\"r\")\n",
    "    plt.fill_between(train_sizes, test_scores_mean - test_scores_std,\n",
    "                     test_scores_mean + test_scores_std, alpha=0.1, color=\"g\")\n",
    "    plt.plot(train_sizes, train_scores_mean, 'o-', color=\"r\",\n",
    "             label=\"Training score\")\n",
    "    plt.plot(train_sizes, test_scores_mean, 'o-', color=\"g\",\n",
    "             label=\"Cross-validation score\")\n",
    "\n",
    "    plt.legend(loc=\"best\")\n",
    "    return plt"
   ]
  },
  {
   "cell_type": "code",
   "execution_count": 23,
   "metadata": {},
   "outputs": [
    {
     "data": {
      "image/png": "[encoded data removed]",
      "text/plain": [
       "<Figure size 432x288 with 1 Axes>"
      ]
     },
     "metadata": {
      "needs_background": "light"
     },
     "output_type": "display_data"
    }
   ],
   "source": [
    "title = \"Learning Curve of Euclidean Classifier\"\n",
    "cv = ShuffleSplit(n_splits=100, test_size=0.2, random_state=0)\n",
    "estimator = EuclideanClassifier()\n",
    "plot_learning_curve(estimator, title, X_train, y_train, (0.8, 1.01), cv=cv, n_jobs=8)\n",
    "\n",
    "plt.show()"
   ]
  },
  {
   "cell_type": "markdown",
   "metadata": {},
   "source": [
    "#### The next steps are implemented as part of the main lab"
   ]
  },
  {
   "cell_type": "markdown",
   "metadata": {},
   "source": [
    "__Step 14:__ Compute the a-priori probabilities of each class, using the above formula:\n",
    "\n",
    "\\begin{align*}\n",
    "prior(c_i) = \\frac{N_i}{N}\n",
    "\\end{align*}\n",
    "\n",
    "where $N_i$ is the number of the training samples that represent digit i and $N$ is the training size."
   ]
  },
  {
   "cell_type": "code",
   "execution_count": 24,
   "metadata": {},
   "outputs": [
    {
     "name": "stdout",
     "output_type": "stream",
     "text": [
      "Digit 0: 0.16376354409546015\n",
      "Digit 1: 0.13784117405019888\n",
      "Digit 2: 0.10026059525442327\n",
      "Digit 3: 0.09024825126868742\n",
      "Digit 4: 0.08942531888629818\n",
      "Digit 5: 0.07625840076807022\n",
      "Digit 6: 0.09107118365107666\n",
      "Digit 7: 0.08846523110684405\n",
      "Digit 8: 0.07433822520916199\n",
      "Digit 9: 0.08832807570977919\n",
      "Sum is equal to: 1.0\n"
     ]
    }
   ],
   "source": [
    "prior = np.bincount(y_train.astype(int)) / train_size\n",
    "for i in range(10):\n",
    "    print(\"Digit \" + str(i) + \": \" + str(prior[i]))\n",
    "\n",
    "# For testing puproses\n",
    "print(\"Sum is equal to: \" + str(sum(prior)))"
   ]
  },
  {
   "cell_type": "markdown",
   "metadata": {},
   "source": [
    "__Step 15:__ \n",
    "\n",
    "__(a)__ Creation of a Gaussian Naive Bayes classifier using NumPy."
   ]
  },
  {
   "cell_type": "markdown",
   "metadata": {},
   "source": [
    "The Naive Bayes classifier is based on the above equation:\n",
    "\n",
    "\\begin{align*}\n",
    "posterior = \\frac{likelihood * prior}{evidence}\n",
    "\\end{align*}\n",
    "\n",
    "or more formally,\n",
    "\n",
    "\\begin{align*}\n",
    "P(c_i | x) = \\frac{P(x | c_i) * P(c_i)}{P(c_i)}\n",
    "\\end{align*}\n",
    "\n",
    "In practice, there is interest only in the numerator of that fraction, because the denominator does not depend on C and the values of the features $x_{i}$ are given, so that the denominator is effectively constant. The prior probabilities $P(c_i)$ can be computed as above and the likelihood $P(x | c_i)$ is taken from a normal distribution with the mean value and the variance of the corresponding pixel. After computing the above fraction, the class with the maximum posterior probability is taken. This is known as the maximum a posteriori or MAP decision rule.\n",
    "\n",
    "\\begin{align*}\n",
    "y = argmax_{k \\in {0, .., 9}} P(c_k) \\prod_{i=i}^k P(x_i | c_k)\n",
    "\\end{align*}\n"
   ]
  },
  {
   "cell_type": "code",
   "execution_count": 25,
   "metadata": {},
   "outputs": [],
   "source": [
    "class GaussianNB_np(BaseEstimator, ClassifierMixin):  \n",
    "    \"\"\"Classify samples based on the Gaussian Naive Bayes\"\"\"\n",
    "\n",
    "    def __init__(self):\n",
    "        self.X_mean_ = None\n",
    "        self.X_var_ = None\n",
    "        self.prior = None\n",
    "        self.n_classes = None\n",
    "\n",
    "\n",
    "    def fit(self, X, y):\n",
    "        \"\"\"\n",
    "        This should fit classifier. All the \"work\" should be done here.\n",
    "        \n",
    "        Calculates self.X_mean_ and self.X_var_ based on the mean \n",
    "        feature values in X for each class. Also, calculates self.prior\n",
    "        that contains the prior probability of each class.\n",
    "        \n",
    "        self.X_mean_ becomes a numpy.ndarray of shape \n",
    "        (n_classes, n_features)\n",
    "        \n",
    "        self.X_var_ becomes a numpy.ndarray of shape \n",
    "        (n_classes, n_features)\n",
    "        \n",
    "        self.prior becomes a numpy.array of shape \n",
    "        (n_classes)\n",
    "        \n",
    "        fit always returns self.\n",
    "        \"\"\"\n",
    "\n",
    "        # Initialize useful variables\n",
    "        train_size, n_features = X.shape\n",
    "        self.n_classes = len(np.unique(y))\n",
    "        self.X_mean_ = np.zeros((self.n_classes, n_features))\n",
    "        self.X_var_ = np.zeros((self.n_classes, n_features))\n",
    "\n",
    "        # Compute mean and variance values for each class\n",
    "        for k in range(self.n_classes):\n",
    "            idx_i = [i for i in range(train_size) if y[i] == k]\n",
    "            X_k = np.take(X, idx_i, axis=0)\n",
    "            self.X_mean_[k, :] = np.mean(X_k, axis=0, keepdims=True)\n",
    "            self.X_var_[k, :] = np.var(X_k, axis=0, keepdims=True)\n",
    "        \n",
    "        # Compute prior probabilities for each class\n",
    "        self.prior = np.bincount(y.astype(int)) / train_size\n",
    "        \n",
    "        return self\n",
    "        \n",
    "\n",
    "    def predict(self, X, smooth=None):\n",
    "        \"\"\"\n",
    "        Make predictions for X based on\n",
    "        the highest posterior probability\n",
    "        \"\"\"\n",
    "        \n",
    "        # Compute likelihood\n",
    "        like = np.zeros((self.n_classes, len(X)))\n",
    "        # Define e for calculation stability (division by zero).\n",
    "        if smooth:\n",
    "            e = smooth\n",
    "        else:\n",
    "            e = 10**(-9)\n",
    "        for i in range(self.n_classes):\n",
    "            like[i] = np.prod(1/(np.sqrt(2*np.pi*self.X_var_[i]+ e)) * \\\n",
    "                              np.exp(-0.5*((X - self.X_mean_[i])**2 / (self.X_var_[i] + e))), axis=1)\n",
    "        return np.argmax(like.T * self.prior, axis=1)\n",
    "    \n",
    "    def score(self, X, y, smooth=None):\n",
    "        \"\"\"\n",
    "        Return accuracy score on the predictions\n",
    "        for X based on ground truth y\n",
    "        \"\"\"\n",
    "        corr = 0\n",
    "        y_pred = self.predict(X, smooth)\n",
    "        corr = sum(int(y[i] == y_pred[i]) for i in range(len(y)))\n",
    "        acc = corr / len(y)\n",
    "        return acc"
   ]
  },
  {
   "cell_type": "markdown",
   "metadata": {},
   "source": [
    "__(b)__ Compute the accuracy of the above classifier using different smoothing parameters."
   ]
  },
  {
   "cell_type": "code",
   "execution_count": 26,
   "metadata": {},
   "outputs": [
    {
     "name": "stdout",
     "output_type": "stream",
     "text": [
      "Accuracy of custom NumPy GaussianNB classifier\n",
      "\n",
      "Smoothing 1e-9: 0.7169905331340309\n",
      "Smoothing 1e-6: 0.7309417040358744\n"
     ]
    },
    {
     "name": "stderr",
     "output_type": "stream",
     "text": [
      "/home/panos/.local/lib/python3.6/site-packages/numpy/core/fromnumeric.py:90: RuntimeWarning: overflow encountered in reduce\n",
      "  return ufunc.reduce(obj, axis, dtype, out, **passkwargs)\n",
      "/home/panos/.local/lib/python3.6/site-packages/numpy/core/fromnumeric.py:90: RuntimeWarning: invalid value encountered in reduce\n",
      "  return ufunc.reduce(obj, axis, dtype, out, **passkwargs)\n"
     ]
    },
    {
     "name": "stdout",
     "output_type": "stream",
     "text": [
      "Smoothing 1e-3: 0.7608370702541106\n",
      "Smoothing 1: 0.3024414549078226\n"
     ]
    }
   ],
   "source": [
    "# Define a custom scorer\n",
    "def my_scorer(clf, X, y_true):\n",
    "    return clf.score(X, y_true)\n",
    "\n",
    "# Define the classifier \n",
    "gaussNB_np = GaussianNB_np()\n",
    "gaussNB_np.fit(X_train, y_train)\n",
    "\n",
    "print(\"Accuracy of custom NumPy GaussianNB classifier\")\n",
    "print()\n",
    "\n",
    "# Predict using default smoothing.\n",
    "print(\"Smoothing 1e-9: \" + str(gaussNB_np.score(X_test, y_test)))\n",
    "\n",
    "# Predict using 1e-6 smoothing.\n",
    "print(\"Smoothing 1e-6: \" + str(gaussNB_np.score(X_test, y_test, smooth=10**(-6))))\n",
    "\n",
    "# Predict using 1e-3 smoothing.\n",
    "print(\"Smoothing 1e-3: \" + str(gaussNB_np.score(X_test, y_test, smooth=10**(-3))))\n",
    "\n",
    "# Predict using 1 smoothing.\n",
    "print(\"Smoothing 1: \" + str(gaussNB_np.score(X_test, y_test, smooth=1)))"
   ]
  },
  {
   "cell_type": "markdown",
   "metadata": {},
   "source": [
    "__(c)__ Compare our custom implementation with scikit-learn GaussianNB implementation."
   ]
  },
  {
   "cell_type": "code",
   "execution_count": 27,
   "metadata": {},
   "outputs": [
    {
     "name": "stdout",
     "output_type": "stream",
     "text": [
      "Accuracy of sklearn GaussianNB classifier\n",
      "\n",
      "0.7194818136522172\n"
     ]
    }
   ],
   "source": [
    "# Define the sklearn classifier (default smoothing is 1e-9)\n",
    "gaussNB = GaussianNB()\n",
    "\n",
    "gaussNB.fit(X_train, y_train)\n",
    "\n",
    "print(\"Accuracy of sklearn GaussianNB classifier\")\n",
    "print()\n",
    "\n",
    "print(gaussNB.score(X_test, y_test))"
   ]
  },
  {
   "cell_type": "markdown",
   "metadata": {},
   "source": [
    "We observe that the accuracy between the NumPy and the sklearn Gaussian Naive Bayes classifiers are very close. However, when we are changing the smoothing factor, the NumPy implementation can perform a little better."
   ]
  },
  {
   "cell_type": "markdown",
   "metadata": {},
   "source": [
    "__Step 16:__ Repeat Step 15, supposing that the variance of all features for all classes is equal to 1."
   ]
  },
  {
   "cell_type": "code",
   "execution_count": 28,
   "metadata": {},
   "outputs": [],
   "source": [
    "class GaussianNB_np_var1(BaseEstimator, ClassifierMixin):  \n",
    "    \"\"\"Classify samples based on the Gaussian Naive Bayes\"\"\"\n",
    "\n",
    "    def __init__(self):\n",
    "        self.X_mean_ = None\n",
    "        self.X_var_ = None\n",
    "        self.prior = None\n",
    "        self.n_classes = None\n",
    "\n",
    "\n",
    "    def fit(self, X, y):\n",
    "        \"\"\"\n",
    "        This should fit classifier. All the \"work\" should be done here.\n",
    "        \n",
    "        Calculates self.X_mean_ and self.X_var_ based on the mean \n",
    "        feature values in X for each class. Also, calculates self.prior.\n",
    "        \n",
    "        self.X_mean_ becomes a numpy.ndarray of shape \n",
    "        (n_classes, n_features)\n",
    "        \n",
    "        self.X_var_ becomes a numpy.ndarray of shape \n",
    "        (n_classes, n_features)\n",
    "        \n",
    "        self.prior becomes a numpy.array of shape \n",
    "        (n_classes)\n",
    "        \n",
    "        fit always returns self.\n",
    "        \"\"\"\n",
    "\n",
    "        # Initialize useful variables\n",
    "        train_size, n_features = X.shape\n",
    "        self.n_classes = len(np.unique(y))\n",
    "        self.X_mean_ = np.zeros((self.n_classes, n_features))\n",
    "        \n",
    "        # Set the variance equal to 1.\n",
    "        self.X_var_ = np.ones((self.n_classes, n_features))\n",
    "\n",
    "        # Compute mean for each class\n",
    "        for k in range(self.n_classes):\n",
    "            idx_i = [i for i in range(train_size) if y[i] == k]\n",
    "            X_k = np.take(X, idx_i, axis=0)\n",
    "            self.X_mean_[k, :] = np.mean(X_k, axis=0, keepdims=True)\n",
    "                \n",
    "        # Compute prior probabilities for each class\n",
    "        self.prior = np.bincount(y.astype(int)) / train_size\n",
    "        \n",
    "        return self\n",
    "        \n",
    "\n",
    "    def predict(self, X, smooth=None):\n",
    "        \"\"\"\n",
    "        Make predictions for X based on\n",
    "        the highest posterior probability\n",
    "        \"\"\"\n",
    "        \n",
    "        # Compute likelihood\n",
    "        like = np.zeros((self.n_classes, len(X)))\n",
    "        # Define e for calculation stability (division by zero).\n",
    "        if smooth:\n",
    "            e = smooth\n",
    "        else:\n",
    "            e = 10**(-9)\n",
    "        for i in range(self.n_classes):\n",
    "            like[i] = np.prod(1/(np.sqrt(2*np.pi*self.X_var_[i]+ e)) * \\\n",
    "                              np.exp(-0.5*((X - self.X_mean_[i])**2 / (self.X_var_[i] + e))), axis=1)\n",
    "        return np.argmax(like.T * self.prior, axis=1)\n",
    "    \n",
    "    def score(self, X, y, smooth=None):\n",
    "        \"\"\"\n",
    "        Return accuracy score on the predictions\n",
    "        for X based on ground truth y\n",
    "        \"\"\"\n",
    "        corr = 0\n",
    "        y_pred = self.predict(X, smooth)\n",
    "        corr = sum(int(y[i] == y_pred[i]) for i in range(len(y)))\n",
    "        acc = corr / len(y)\n",
    "        return acc"
   ]
  },
  {
   "cell_type": "code",
   "execution_count": 29,
   "metadata": {},
   "outputs": [
    {
     "name": "stdout",
     "output_type": "stream",
     "text": [
      "Accuracy of custom NumPy GaussianNB classifier, considering unit variance\n",
      "\n",
      "Smoothing 1e-9: 0.8126557050323866\n",
      "Smoothing 1e-6: 0.8126557050323866\n",
      "Smoothing 1e-3: 0.8126557050323866\n",
      "Smoothing 1: 0.8121574489287494\n"
     ]
    }
   ],
   "source": [
    "# Define a custom scorer\n",
    "def my_scorer(clf, X, y_true):\n",
    "    return clf.score(X, y_true)\n",
    "\n",
    "# Define the classifier\n",
    "gaussNB_np_var1 = GaussianNB_np_var1()\n",
    "gaussNB_np_var1.fit(X_train, y_train)\n",
    "\n",
    "print(\"Accuracy of custom NumPy GaussianNB classifier, considering unit variance\")\n",
    "print()\n",
    "\n",
    "# Predict using  default smoothing.\n",
    "print(\"Smoothing 1e-9: \" + str(gaussNB_np_var1.score(X_test, y_test)))\n",
    "\n",
    "# Predict using 1e-6 smoothing.\n",
    "print(\"Smoothing 1e-6: \" + str(gaussNB_np_var1.score(X_test, y_test, smooth=10**(-6))))\n",
    "\n",
    "# Predict using 1e-3 smoothing.\n",
    "print(\"Smoothing 1e-3: \" + str(gaussNB_np_var1.score(X_test, y_test, smooth=10**(-3))))\n",
    "\n",
    "# Predict using 1 smoothing.\n",
    "print(\"Smoothing 1: \" + str(gaussNB_np_var1.score(X_test, y_test, smooth=1)))"
   ]
  },
  {
   "cell_type": "markdown",
   "metadata": {},
   "source": [
    "Let's summarize all the implementations of a Gaussian Naive Bayes classifier in the above table:\n",
    "\n",
    "\n",
    "\n",
    "| Type | Variance | Smooth | Accuracy |\n",
    "| :--- | --- | --- | --- |\n",
    "| Numpy | trained | 1e-9 | 0.717 |\n",
    "| Numpy | trained | 1e-6 |  0.731 |\n",
    "| Numpy | trained | 1e-3 | 0.761 |\n",
    "| Numpy | trained | 1 | 0.302 |\n",
    "| Sklearn | trained | 1e-9 | 0.719 |\n",
    "| Numpy | 1 | 1e-9 | __0.813__ |\n",
    "| Numpy | 1 | 1e-6 | __0.813__ |\n",
    "| Numpy | 1 | 1e-3 | __0.813__ |\n",
    "| Numpy | 1 | 1 | 0.812 |\n"
   ]
  },
  {
   "cell_type": "markdown",
   "metadata": {},
   "source": [
    "As we can see, if we consider unit variance, accuracy increases by 5-10%."
   ]
  },
  {
   "cell_type": "markdown",
   "metadata": {},
   "source": [
    "__Step 17:__ Compare the performance of Naive Bayes, Nearest Neighbors, SVM (using different kernels)."
   ]
  },
  {
   "cell_type": "code",
   "execution_count": 30,
   "metadata": {},
   "outputs": [
    {
     "name": "stdout",
     "output_type": "stream",
     "text": [
      "Accuracy of Nearest Neihbors classifier, considering different number of neighbors\n",
      "\n",
      "Neighbors = 3: 0.9446935724962631\n",
      "Neighbors = 5: 0.9446935724962631\n",
      "Neighbors = 7: 0.9417040358744395\n"
     ]
    }
   ],
   "source": [
    "# Define Nearest Neighbors classifier using 3, 5 and 7 number of neighbors.\n",
    "\n",
    "neigh3 = KNeighborsClassifier(n_neighbors=3)\n",
    "neigh3.fit(X_train, y_train)\n",
    "\n",
    "neigh5 = KNeighborsClassifier(n_neighbors=5)\n",
    "neigh5.fit(X_train, y_train)\n",
    "\n",
    "\n",
    "neigh7 = KNeighborsClassifier(n_neighbors=7)\n",
    "neigh7.fit(X_train, y_train)\n",
    "\n",
    "print(\"Accuracy of Nearest Neihbors classifier, considering different number of neighbors\")\n",
    "print()\n",
    "\n",
    "print(\"Neighbors = 3: \" + str(neigh3.score(X_test, y_test)))\n",
    "print(\"Neighbors = 5: \" + str(neigh5.score(X_test, y_test)))\n",
    "print(\"Neighbors = 7: \" + str(neigh7.score(X_test, y_test)))"
   ]
  },
  {
   "cell_type": "code",
   "execution_count": 31,
   "metadata": {},
   "outputs": [
    {
     "name": "stdout",
     "output_type": "stream",
     "text": [
      "Accuracy of SVM classifier, considering different kernels\n",
      "\n",
      "Kernel = linear: 0.9262580966616841\n",
      "Kernel = rbf: 0.9262580966616841\n",
      "Kernel = poly: 0.9466865969108121\n",
      "Kernel = sigmoid: 0.9147982062780269\n"
     ]
    }
   ],
   "source": [
    "# Define SVM classifier using different kernels.\n",
    "\n",
    "svm_lin = SVC(kernel=\"linear\", probability=True)  \n",
    "svm_lin.fit(X_train, y_train)\n",
    "\n",
    "svm_rbf = SVC(kernel=\"rbf\", probability=True)  \n",
    "svm_rbf.fit(X_train, y_train)\n",
    "\n",
    "svm_poly = SVC(kernel=\"poly\", probability=True)  \n",
    "svm_poly.fit(X_train, y_train)\n",
    "\n",
    "svm_sigm = SVC(kernel=\"sigmoid\", probability=True) \n",
    "svm_sigm.fit(X_train, y_train)\n",
    "\n",
    "print(\"Accuracy of SVM classifier, considering different kernels\")\n",
    "print()\n",
    "\n",
    "print(\"Kernel = linear: \" + str(svm_lin.score(X_test, y_test)))\n",
    "print(\"Kernel = rbf: \" + str(svm_lin.score(X_test, y_test)))\n",
    "print(\"Kernel = poly: \" + str(svm_poly.score(X_test, y_test)))\n",
    "print(\"Kernel = sigmoid: \" + str(svm_sigm.score(X_test, y_test)))"
   ]
  },
  {
   "cell_type": "markdown",
   "metadata": {},
   "source": [
    "Best implementations so far:\n",
    "\n",
    "| Classifier | Type | Accuracy |\n",
    "| :--- | --- | --- |\n",
    "| SVM | poly kernel | 0.947 |\n",
    "| NN  | 3 neighbors | 0.945 |\n",
    "| NN  | 5 neighbors | 0.945 |\n",
    "| NN  | 7 neighbors | 0.942 |\n",
    "| SVM | rbf kernel | 0.926 |\n",
    "| SVM | linear kernel | 0.926 |\n",
    "| SVM | sigmoid kernel | 0.915 |\n",
    "| GaussianNB | var = 1 | 0.813 |\n"
   ]
  },
  {
   "cell_type": "markdown",
   "metadata": {},
   "source": [
    "All Nearest Neighbors implementations along with the poly SVM have almost 95% accuracy. As we expected, the Naive Bayes classifiers perform worse than the other classifiers, due to their simplicity."
   ]
  },
  {
   "cell_type": "markdown",
   "metadata": {},
   "source": [
    "__Step 18:__ This step aims to combine different classifiers to achieve higher accuracy. This technique is known as __ensembling__. It is important that the combined classifiers misclassify different classes, e.g. classifier 1 tends to misclassify digit 3 and classifier 2 tends to misclassify digit 7 e.t.c . "
   ]
  },
  {
   "cell_type": "markdown",
   "metadata": {},
   "source": [
    "First, let's check the type of misprediction for each of the above classifiers."
   ]
  },
  {
   "cell_type": "code",
   "execution_count": 32,
   "metadata": {},
   "outputs": [],
   "source": [
    "n_classifiers = 8\n",
    "names = [\"svm_poly\", \"neigh3\", \"neigh5\", \"neigh7\", \"svm_rbf\", \"svm_lin\", \"svm_sigm\", \"gaussNB_np_var1\"]\n",
    "classifiers = [svm_poly, neigh3, neigh5, neigh7, svm_rbf, svm_lin, svm_sigm, gaussNB_np_var1]\n",
    "misses = np.zeros((n_classifiers, 10))\n",
    "\n",
    "for i, clf in enumerate(classifiers):\n",
    "    y_pred = clf.predict(X_test)\n",
    "    for j in range(len(y_pred)):\n",
    "        if y_pred[j] != y_test[j]:\n",
    "            misses[i, int(y_test[j])] += 1\n",
    "        "
   ]
  },
  {
   "cell_type": "code",
   "execution_count": 33,
   "metadata": {},
   "outputs": [
    {
     "name": "stdout",
     "output_type": "stream",
     "text": [
      "Number of digits not correctly classified for each classifier:\n",
      "\n",
      "svm_poly\n",
      "[ 4.  9. 15. 16. 11. 10. 12. 10. 13.  7.]\n",
      "\n",
      "neigh3\n",
      "[ 4.  6. 15. 13. 17. 16.  7.  9. 15.  9.]\n",
      "\n",
      "neigh5\n",
      "[ 5.  5. 16. 12. 17. 16.  7.  9. 15.  9.]\n",
      "\n",
      "neigh7\n",
      "[ 5.  6. 16. 11. 18. 14.  8.  9. 21.  9.]\n",
      "\n",
      "svm_rbf\n",
      "[ 4.  9. 17. 20. 12. 13. 11. 10. 13.  7.]\n",
      "\n",
      "svm_lin\n",
      "[ 8.  8. 17. 20. 20. 24. 10. 12. 22.  7.]\n",
      "\n",
      "svm_sigm\n",
      "[ 8.  8. 29. 26. 16. 22. 13. 13. 28.  8.]\n",
      "\n",
      "gaussNB_np_var1\n",
      "[62.  5. 53. 35. 50. 38. 27. 30. 39. 37.]\n",
      "\n"
     ]
    }
   ],
   "source": [
    "print(\"Number of digits not correctly classified for each classifier:\")\n",
    "print()\n",
    "for i in range(8):\n",
    "    print(names[i])\n",
    "    print(misses[i])\n",
    "    print()"
   ]
  },
  {
   "cell_type": "code",
   "execution_count": 34,
   "metadata": {},
   "outputs": [
    {
     "name": "stdout",
     "output_type": "stream",
     "text": [
      "Top 3 misclassified digits: \n",
      "\n",
      "svm_poly: 3 2 8\n",
      "neigh3: 4 5 8\n",
      "neigh5: 4 5 2\n",
      "neigh7: 8 4 2\n",
      "svm_rbf: 3 2 8\n",
      "svm_lin: 5 8 4\n",
      "svm_sigm: 2 8 3\n",
      "gaussNB_np_var1: 0 2 4\n"
     ]
    }
   ],
   "source": [
    "print(\"Top 3 misclassified digits: \")\n",
    "print()\n",
    "\n",
    "for i in range(8):\n",
    "    best_3 = misses[i].argsort()[-3:][::-1]\n",
    "    print(names[i] + \": \" + str(best_3[0]) + \" \" + str(best_3[1]) + \" \" + str(str(best_3[2])))"
   ]
  },
  {
   "cell_type": "code",
   "execution_count": 35,
   "metadata": {},
   "outputs": [
    {
     "name": "stdout",
     "output_type": "stream",
     "text": [
      "Last 3 misclassified digits: \n",
      "\n",
      "svm_poly: 0 9 1\n",
      "neigh3: 0 1 6\n",
      "neigh5: 0 1 6\n",
      "neigh7: 0 1 6\n",
      "svm_rbf: 0 9 1\n",
      "svm_lin: 9 0 1\n",
      "svm_sigm: 0 1 9\n",
      "gaussNB_np_var1: 1 6 7\n"
     ]
    }
   ],
   "source": [
    "print(\"Last 3 misclassified digits: \")\n",
    "print()\n",
    "\n",
    "for i in range(8):\n",
    "    last_3 = misses[i].argsort()[:3]\n",
    "    print(names[i] + \": \" + str(last_3[0]) + \" \" + str(last_3[1]) + \" \" + str(last_3[2]))"
   ]
  },
  {
   "cell_type": "markdown",
   "metadata": {},
   "source": [
    "__(a)__ Choose some previous classifier and combine them using Voting Classifier.\n",
    "\n",
    "Considering the above statistics, the combination svm_poly + neigh5 + svm_lin seems like a good choice."
   ]
  },
  {
   "cell_type": "code",
   "execution_count": 36,
   "metadata": {},
   "outputs": [
    {
     "name": "stdout",
     "output_type": "stream",
     "text": [
      "Hard Voting: 0.9491778774289985\n"
     ]
    }
   ],
   "source": [
    "v_clf1 = VotingClassifier(estimators=[('svm_poly', svm_poly), ('neigh5', neigh5), ('svm_lin', svm_lin)], voting='hard')\n",
    "\n",
    "v_clf1.fit(X_train, y_train)\n",
    "\n",
    "print(\"Hard Voting: \" + str(v_clf1.score(X_test, y_test)))"
   ]
  },
  {
   "cell_type": "code",
   "execution_count": 37,
   "metadata": {},
   "outputs": [
    {
     "name": "stdout",
     "output_type": "stream",
     "text": [
      "Soft Voting: 0.9501743896362731\n"
     ]
    }
   ],
   "source": [
    "v_clf2 = VotingClassifier(estimators=[('svm_poly', svm_poly), ('neigh5', neigh5), ('svm_lin', svm_lin)], voting='soft')\n",
    "v_clf2.fit(X_train, y_train)\n",
    "\n",
    "print(\"Soft Voting: \" + str(v_clf2.score(X_test, y_test)))\n"
   ]
  },
  {
   "cell_type": "markdown",
   "metadata": {},
   "source": [
    "__(b)__ Choose a classifier and use the BaggingClassifier to create an ensemble. The bagging technique is used to split the train set in random subsets and fit a classifer in each set."
   ]
  },
  {
   "cell_type": "code",
   "execution_count": 38,
   "metadata": {},
   "outputs": [
    {
     "name": "stdout",
     "output_type": "stream",
     "text": [
      "Bagging svm_poly using 5 estimators: 0.9471848530144494\n",
      "Bagging svm_poly using 10 estimators: 0.9431988041853513\n"
     ]
    }
   ],
   "source": [
    "# Use the best classifier so far.\n",
    "bag_5 = BaggingClassifier(svm_poly, n_estimators=5)\n",
    "bag_10 = BaggingClassifier(svm_poly, n_estimators=10)\n",
    "\n",
    "bag_5.fit(X_train, y_train)\n",
    "bag_10.fit(X_train, y_train)\n",
    "\n",
    "print(\"Bagging svm_poly using 5 estimators: \" + str(bag_5.score(X_test, y_test)))\n",
    "print(\"Bagging svm_poly using 10 estimators: \" + str(bag_10.score(X_test, y_test)))\n"
   ]
  },
  {
   "cell_type": "markdown",
   "metadata": {},
   "source": [
    "__(c)__  In general, Bagging reduces overfitting (variance) by averaging or voting. However, in our case it did not incease our model's accuracy. The soft voting classifier achieved the best accuracy, since it combined the pros of different classifiers."
   ]
  },
  {
   "cell_type": "markdown",
   "metadata": {},
   "source": [
    "__Step 19:__ Introduction in Neural Networks and Pytorch."
   ]
  },
  {
   "cell_type": "markdown",
   "metadata": {},
   "source": [
    "__(a)__ Loading the Data\n",
    "\n",
    "- Create a Dataset"
   ]
  },
  {
   "cell_type": "code",
   "execution_count": 39,
   "metadata": {},
   "outputs": [],
   "source": [
    "class PostalDataset(Dataset):\n",
    "    \"\"\"\n",
    "    Our custom PyTorch Dataset, for manipulating US Postal Dataset.\n",
    "    What we have to do is to implement the 2 abstract methods:\n",
    "        - __len__(self): in order to let the DataLoader know the size\n",
    "            of our dataset and to perform batching, shuffling and so on...\n",
    "        - __getitem__(self, index): we have to return the properly\n",
    "            processed data-item from our dataset with a given index\n",
    "    \"\"\"\n",
    "\n",
    "    def __init__(self, X, y):\n",
    "        \"\"\"\n",
    "        Args:\n",
    "            X (list): List of training samples\n",
    "            y (list): List of training labels\n",
    "        \"\"\"\n",
    "        self.data = X\n",
    "        self.labels = y\n",
    "\n",
    "    def __len__(self):\n",
    "        \"\"\"\n",
    "        Must return the length of the dataset, so the dataloader can know\n",
    "        how to split it into batches\n",
    "        Returns:\n",
    "            (int): the length of the dataset\n",
    "        \"\"\"\n",
    "        \n",
    "        return len(self.data)\n",
    "\n",
    "    def __getitem__(self, idx):\n",
    "        \"\"\"\n",
    "        Returns the idx-th item from the dataset\n",
    "        Args:\n",
    "            index (int):\n",
    "        Returns:\n",
    "            (tuple):\n",
    "                * example (ndarray): the training example\n",
    "                * label (int): the class label\n",
    "        \"\"\"\n",
    "        \n",
    "        return self.data[idx], self.labels[idx]"
   ]
  },
  {
   "cell_type": "markdown",
   "metadata": {},
   "source": [
    "- Define a train, dev and test Dataset"
   ]
  },
  {
   "cell_type": "markdown",
   "metadata": {},
   "source": [
    "Split training set in training and validation set"
   ]
  },
  {
   "cell_type": "code",
   "execution_count": 40,
   "metadata": {},
   "outputs": [],
   "source": [
    "X_train, X_val, y_train, y_val  = train_test_split(X_train, y_train, test_size=0.3, random_state=1)"
   ]
  },
  {
   "cell_type": "code",
   "execution_count": 41,
   "metadata": {},
   "outputs": [],
   "source": [
    "train_set = PostalDataset(X_train, y_train)\n",
    "val_set = PostalDataset(X_val, y_val)\n",
    "test_set = PostalDataset(X_test, y_test)"
   ]
  },
  {
   "cell_type": "code",
   "execution_count": 42,
   "metadata": {},
   "outputs": [
    {
     "name": "stdout",
     "output_type": "stream",
     "text": [
      "Training set size: 5103\n",
      "Validation set size: 2188\n",
      "Test set size: 2007\n"
     ]
    }
   ],
   "source": [
    "print(\"Training set size: \" + str(len(train_set)))\n",
    "print(\"Validation set size: \" + str(len(val_set)))\n",
    "print(\"Test set size: \" + str(len(test_set)))"
   ]
  },
  {
   "cell_type": "markdown",
   "metadata": {},
   "source": [
    "- Define a train and a test DataLoader"
   ]
  },
  {
   "cell_type": "code",
   "execution_count": 43,
   "metadata": {},
   "outputs": [],
   "source": [
    "train_loader = DataLoader(train_set, batch_size=32,\n",
    "                          shuffle=True, num_workers=8)\n",
    "\n",
    "val_loader = DataLoader(val_set, batch_size=32,\n",
    "                          shuffle=True, num_workers=8)\n",
    "\n",
    "test_loader = DataLoader(test_set, batch_size=32,\n",
    "                          shuffle=True, num_workers=8)"
   ]
  },
  {
   "cell_type": "markdown",
   "metadata": {},
   "source": [
    "__(b)__ Define different fully connected neural network architectures.\n",
    "\n",
    "- Two layer neural network using ReLU activation function."
   ]
  },
  {
   "cell_type": "code",
   "execution_count": 44,
   "metadata": {},
   "outputs": [],
   "source": [
    "class TwoLayerNet(torch.nn.Module):\n",
    "    def __init__(self, D_in, H, D_out):\n",
    "        super(TwoLayerNet, self).__init__()\n",
    "        self.linear1 = torch.nn.Linear(D_in, H)\n",
    "        self.relu = torch.nn.ReLU()\n",
    "        self.linear2 = torch.nn.Linear(H, D_out)\n",
    "\n",
    "    def forward(self, data):\n",
    "        hidden =  self.relu(self.linear1(data.float()))\n",
    "        preds = self.linear2(hidden)\n",
    "        return preds"
   ]
  },
  {
   "cell_type": "markdown",
   "metadata": {},
   "source": [
    "- Three layer neural network using ReLU activation function."
   ]
  },
  {
   "cell_type": "code",
   "execution_count": 45,
   "metadata": {},
   "outputs": [],
   "source": [
    "class ThreeLayerNet(torch.nn.Module):\n",
    "    def __init__(self, D_in, H_1, H_2, D_out):\n",
    "        super(ThreeLayerNet, self).__init__()\n",
    "        self.linear1 = torch.nn.Linear(D_in, H_1)\n",
    "        self.relu = torch.nn.ReLU()\n",
    "        self.linear2 = torch.nn.Linear(H_1, H_2)\n",
    "        self.linear3 = torch.nn.Linear(H_2, D_out)\n",
    "\n",
    "    def forward(self, data):\n",
    "        hidden_1 =  self.relu(self.linear1(data.float()))\n",
    "        hidden_2 =  self.relu(self.linear2(hidden_1))\n",
    "        preds = self.linear3(hidden_2)\n",
    "        return preds\n",
    "    "
   ]
  },
  {
   "cell_type": "markdown",
   "metadata": {},
   "source": [
    "- Two layer neural network using tanh activation function."
   ]
  },
  {
   "cell_type": "code",
   "execution_count": 46,
   "metadata": {},
   "outputs": [],
   "source": [
    "class TwoLayerNet_tanh(torch.nn.Module):\n",
    "    def __init__(self, D_in, H, D_out):\n",
    "        super(TwoLayerNet_tanh, self).__init__()\n",
    "        self.linear1 = torch.nn.Linear(D_in, H)\n",
    "        self.tanh = torch.nn.Tanh()\n",
    "        self.linear2 = torch.nn.Linear(H, D_out)\n",
    "\n",
    "    def forward(self, data):\n",
    "        hidden =  self.tanh(self.linear1(data.float()))\n",
    "        preds = self.linear2(hidden)\n",
    "        return preds"
   ]
  },
  {
   "cell_type": "markdown",
   "metadata": {},
   "source": [
    "- Three layer neural network using tanh activation function."
   ]
  },
  {
   "cell_type": "code",
   "execution_count": 47,
   "metadata": {},
   "outputs": [],
   "source": [
    "class ThreeLayerNet_tanh(torch.nn.Module):\n",
    "    def __init__(self, D_in, H_1, H_2, D_out):\n",
    "        super(ThreeLayerNet_tanh, self).__init__()\n",
    "        self.linear1 = torch.nn.Linear(D_in, H_1)\n",
    "        self.tanh = torch.nn.Tanh()\n",
    "        self.linear2 = torch.nn.Linear(H_1, H_2)\n",
    "        self.linear3 = torch.nn.Linear(H_2, D_out)\n",
    "\n",
    "    def forward(self, data):\n",
    "        hidden_1 =  self.tanh(self.linear1(data.float()))\n",
    "        hidden_2 =  self.tanh(self.linear2(hidden_1))\n",
    "        preds = self.linear3(hidden_2)\n",
    "        return preds"
   ]
  },
  {
   "cell_type": "markdown",
   "metadata": {},
   "source": [
    "__(c)__ Train the NN in our train data and evaluate it on the validation data."
   ]
  },
  {
   "cell_type": "code",
   "execution_count": 53,
   "metadata": {},
   "outputs": [
    {
     "name": "stdout",
     "output_type": "stream",
     "text": [
      "Number of hidden layers: (1 or 2)2\n",
      "Size of 1st hidden layer: 128\n",
      "Size of 2nd hidden layer: 64\n",
      "Activation function: (relu or tanh)tanh\n",
      "ThreeLayerNet_tanh(\n",
      "  (linear1): Linear(in_features=256, out_features=128, bias=True)\n",
      "  (tanh): Tanh()\n",
      "  (linear2): Linear(in_features=128, out_features=64, bias=True)\n",
      "  (linear3): Linear(in_features=64, out_features=10, bias=True)\n",
      ")\n",
      "\n",
      "Epoch: 1\n",
      "Accuracy in train: 82.912013 %\n",
      "Accuracy in val: 88.789238 %\n",
      "Epoch: 2\n",
      "Accuracy in train: 94.238683 %\n",
      "Accuracy in val: 91.131041 %\n",
      "Epoch: 3\n",
      "Accuracy in train: 95.610425 %\n",
      "Accuracy in val: 91.928251 %\n",
      "Epoch: 4\n",
      "Accuracy in train: 97.178131 %\n",
      "Accuracy in val: 91.878426 %\n",
      "Epoch: 5\n",
      "Accuracy in train: 97.785616 %\n",
      "Accuracy in val: 92.725461 %\n",
      "Epoch: 6\n",
      "Accuracy in train: 98.353909 %\n",
      "Accuracy in val: 92.326856 %\n",
      "Finished Training\n"
     ]
    }
   ],
   "source": [
    "# D_in is input dimension;\n",
    "# D_out is output dimension.\n",
    "D_in, D_out = 256, 10\n",
    "\n",
    "\n",
    "# Construct our model \n",
    "layers = int(input(\"Number of hidden layers: (1 or 2)\"))\n",
    "if layers == 1:\n",
    "    size1 = int(input(\"Size of hidden layer: \"))\n",
    "    size2 = None\n",
    "else:\n",
    "    size1 = int(input(\"Size of 1st hidden layer: \"))\n",
    "    size2 = int(input(\"Size of 2nd hidden layer: \"))\n",
    "\n",
    "act = input(\"Activation function: (relu or tanh)\")\n",
    "\n",
    "if layers == 1:\n",
    "    if act == \"relu\":\n",
    "        model = TwoLayerNet(D_in, size1, D_out)\n",
    "    else:\n",
    "        model = TwoLayerNet_tanh(D_in, size1, D_out)\n",
    "else:\n",
    "    if act == \"relu\":\n",
    "        model = ThreeLayerNet(D_in, size1, size1, D_out)\n",
    "    else:\n",
    "        model = ThreeLayerNet_tanh(D_in, size1, size2, D_out)\n",
    "\n",
    "print(model)\n",
    "print()\n",
    "\n",
    "# Define criterion and optimizer\n",
    "criterion = torch.nn.CrossEntropyLoss()\n",
    "optimizer = torch.optim.Adam(model.parameters())\n",
    "\n",
    "prev_val = 0\n",
    "ep = 1\n",
    "\n",
    "while True:\n",
    "    print(\"Epoch: \" + str(ep))\n",
    "    \n",
    "    # Train and evaluate on train set\n",
    "    correct_train = 0\n",
    "    total_train = 0\n",
    "    for i, data in enumerate(train_loader, 0):\n",
    "        # get the inputs; data is a list of [inputs, labels]\n",
    "        inputs, labels = data\n",
    "\n",
    "        # zero the parameter gradients\n",
    "        optimizer.zero_grad()\n",
    "\n",
    "        # forward + backward + optimize\n",
    "        outputs = model(inputs)\n",
    "        \n",
    "        _, predicted = torch.max(outputs.data, 1)\n",
    "        total_train += labels.size(0)\n",
    "        correct_train += (predicted == labels).sum().item()\n",
    "        \n",
    "        loss = criterion(outputs, labels)\n",
    "        loss.backward()\n",
    "        optimizer.step()\n",
    "\n",
    "    \n",
    "    print('Accuracy in train: %f %%' % (\n",
    "            100 * correct_train / total_train))\n",
    "    \n",
    "    # Evaluate on validation set\n",
    "    correct_val = 0\n",
    "    total_val = 0\n",
    "    with torch.no_grad():\n",
    "        for data in test_loader:\n",
    "            images, labels = data\n",
    "            outputs = model(images)\n",
    "            _, predicted = torch.max(outputs.data, 1)\n",
    "            total_val += labels.size(0)\n",
    "            correct_val += (predicted == labels).sum().item()\n",
    "            \n",
    "    print('Accuracy in val: %f %%' % (\n",
    "            100 * correct_val / total_val))\n",
    "    \n",
    "    # Stop when validation accuracy stops increasing.\n",
    "    curr_val = correct_val / total_val\n",
    "    if curr_val + 0.001 < prev_val:\n",
    "        break\n",
    "    prev_val = curr_val\n",
    "    ep += 1\n",
    "\n",
    "print('Finished Training')\n",
    "   "
   ]
  },
  {
   "cell_type": "markdown",
   "metadata": {},
   "source": [
    "In the training we can change the following hyperparameters:\n",
    "- Model\n",
    "- Number of layers\n",
    "- Size of each layer\n",
    "- Activation functions\n",
    "\n",
    "In the following table, we summarize the results for different combinations of the above parameters:`"
   ]
  },
  {
   "cell_type": "markdown",
   "metadata": {},
   "source": [
    "| Hidden Layers | Activation Type | Size of each layer | Epochs | Accuracy (train) | Accuracy (val) |\n",
    "| --- | --- | --- | --- | --- | --- |\n",
    "| 1 | ReLU | 16 | 8 | 95.66 |90.98 |\n",
    "| 1 | ReLU | 32 | 5 | 95.87 | 90.63 |\n",
    "| 1 | ReLU | 64 | 9 |98.28 | 92.13 |\n",
    "| 1 | ReLU | 128 | 7 |97.98 | 92.23 |\n",
    "| --- | --- | --- | --- | --- | --- |\n",
    "| 2 | ReLU | 32 - 16 | 10 |97.55 | 91.38 |\n",
    "| 2 | ReLU | 64 - 32 | 10 |98.54 | 91.03 |\n",
    "| 2 | ReLU | 128 - 64 | 7 |98.47 | 92.18 |\n",
    "| --- | --- | --- | --- | --- | --- |\n",
    "| 1 | tanh | 16 | 9 | 96.26 |91.03 |\n",
    "| 1 | tanh | 32 | 5 | 96 | 91.33 |\n",
    "| 1 | tanh | 64 | 5 |96.61 | 91.33 |\n",
    "| 1 | tanh | 128 | 6 |97.43 | 91.78 |\n",
    "| --- | --- | --- | --- | --- | --- |\n",
    "| 2 | tanh | 32 - 16 | 9 |98.04 | 92.13 |\n",
    "| 2 | tanh | 64 - 32 | 8 |98.49 | 91.93 |\n",
    "| 2 | tanh | 128 - 64 | 11 | 98.36 | __92.33__ |"
   ]
  },
  {
   "cell_type": "code",
   "execution_count": 54,
   "metadata": {},
   "outputs": [
    {
     "name": "stdout",
     "output_type": "stream",
     "text": [
      "0.9232685600398605\n"
     ]
    }
   ],
   "source": [
    "# Evaluate the best model on test set\n",
    "# tanh with 2 hidden layers (128 - 65)\n",
    "correct = 0\n",
    "total = 0\n",
    "with torch.no_grad():\n",
    "    for data in test_loader:\n",
    "        images, labels = data\n",
    "        outputs = model(images)\n",
    "        _, predicted = torch.max(outputs.data, 1)\n",
    "        total_val += labels.size(0)\n",
    "        correct_val += (predicted == labels).sum().item()\n",
    "\n",
    "print(correct_val / total_val)"
   ]
  },
  {
   "cell_type": "markdown",
   "metadata": {},
   "source": [
    "__(c)__ Convert the PyTorch Neural Network implementation to sklearn compatible.\n",
    "\n",
    "We will convert the TwoLayerNet."
   ]
  },
  {
   "cell_type": "code",
   "execution_count": 55,
   "metadata": {},
   "outputs": [],
   "source": [
    "class NN_sklearn(BaseEstimator, ClassifierMixin):  \n",
    "\n",
    "    def __init__(self, in_dim, out_dim, hidden_dim, batch_size):\n",
    "        self.D_in = in_dim\n",
    "        self.D_out = out_dim\n",
    "        self.H = hidden_dim\n",
    "        self.batch_size = batch_size\n",
    "        self.model = TwoLayerNet(self.D_in, self.H, self.D_out)\n",
    "\n",
    "\n",
    "    def fit(self, X, y):\n",
    "        train_set = PostalDataset(X, y)\n",
    "        train_loader = DataLoader(train_set, batch_size=self.batch_size,\n",
    "                          shuffle=True, num_workers=8)\n",
    "        criterion = torch.nn.CrossEntropyLoss()\n",
    "        optimizer = torch.optim.Adam(self.model.parameters())\n",
    "\n",
    "        prev_val = 0\n",
    "        ep = 1\n",
    "\n",
    "        while True:\n",
    "            print(\"Epoch: \" + str(ep))\n",
    "            correct_train = 0\n",
    "            total_train = 0\n",
    "            for i, data in enumerate(train_loader, 0):\n",
    "                # get the inputs; data is a list of [inputs, labels]\n",
    "                inputs, labels = data\n",
    "\n",
    "                # zero the parameter gradients\n",
    "                optimizer.zero_grad()\n",
    "\n",
    "                # forward + backward + optimize\n",
    "                outputs = self.model(inputs)\n",
    "\n",
    "                _, predicted = torch.max(outputs.data, 1)\n",
    "                total_train += labels.size(0)\n",
    "                correct_train += (predicted == labels).sum().item()\n",
    "\n",
    "                loss = criterion(outputs, labels)\n",
    "                loss.backward()\n",
    "                optimizer.step()\n",
    "\n",
    "\n",
    "            print('Accuracy in train: %f %%' % (\n",
    "                    100 * correct_train / total_train))\n",
    "\n",
    "            correct_val = 0\n",
    "            total_val = 0\n",
    "            with torch.no_grad():\n",
    "                for data in test_loader:\n",
    "                    images, labels = data\n",
    "                    outputs = self.model(images)\n",
    "                    _, predicted = torch.max(outputs.data, 1)\n",
    "                    total_val += labels.size(0)\n",
    "                    correct_val += (predicted == labels).sum().item()\n",
    "\n",
    "            print('Accuracy in val: %f %%' % (\n",
    "                    100 * correct_val / total_val))\n",
    "\n",
    "            curr_val = correct_val / total_val\n",
    "            if curr_val + 0.001 < prev_val:\n",
    "                break\n",
    "            prev_val = curr_val\n",
    "            ep += 1\n",
    "        \n",
    "        return self\n",
    "\n",
    "\n",
    "    \n",
    "    def score(self, X, y):\n",
    "        \"\"\"\n",
    "        Return accuracy score on the predictions\n",
    "        for X based on ground truth y\n",
    "        \"\"\"\n",
    "        test_set = PostalDataset(X, y)\n",
    "        test_loader = DataLoader(test_set, batch_size=1, num_workers=8)\n",
    "        \n",
    "        correct = 0\n",
    "        total = 0\n",
    "        predictions = []\n",
    "        with torch.no_grad():\n",
    "            for data in test_loader:\n",
    "                images, labels = data\n",
    "                outputs = self.model(images)\n",
    "                _, predicted = torch.max(outputs.data, 1)\n",
    "                total += labels.size(0)\n",
    "                correct += (predicted == labels).sum().item()\n",
    "                \n",
    "        return correct/total"
   ]
  },
  {
   "cell_type": "code",
   "execution_count": 56,
   "metadata": {},
   "outputs": [
    {
     "name": "stdout",
     "output_type": "stream",
     "text": [
      "Epoch: 1\n",
      "Accuracy in train: 77.131099 %\n",
      "Accuracy in val: 86.895864 %\n",
      "Epoch: 2\n",
      "Accuracy in train: 92.494611 %\n",
      "Accuracy in val: 89.038366 %\n",
      "Epoch: 3\n",
      "Accuracy in train: 94.042720 %\n",
      "Accuracy in val: 90.832088 %\n",
      "Epoch: 4\n",
      "Accuracy in train: 94.885362 %\n",
      "Accuracy in val: 90.134529 %\n"
     ]
    },
    {
     "data": {
      "text/plain": [
       "NN_sklearn(batch_size=32, hidden_dim=None, in_dim=None, out_dim=None)"
      ]
     },
     "execution_count": 56,
     "metadata": {},
     "output_type": "execute_result"
    }
   ],
   "source": [
    "NN_sk = NN_sklearn(256, 10, 32, 32)\n",
    "\n",
    "NN_sk.fit(X_train, y_train)"
   ]
  },
  {
   "cell_type": "markdown",
   "metadata": {},
   "source": [
    "__(d)__ Evaluate out NN in our test set."
   ]
  },
  {
   "cell_type": "code",
   "execution_count": 57,
   "metadata": {},
   "outputs": [
    {
     "name": "stdout",
     "output_type": "stream",
     "text": [
      "Sklearn combatible NN 0.9013452914798207\n"
     ]
    }
   ],
   "source": [
    "print(\"Sklearn combatible NN \" + str(NN_sk.score(X_test, y_test)))"
   ]
  }
 ],
 "metadata": {
  "kernelspec": {
   "display_name": "Python 3",
   "language": "python",
   "name": "python3"
  },
  "language_info": {
   "codemirror_mode": {
    "name": "ipython",
    "version": 3
   },
   "file_extension": ".py",
   "mimetype": "text/x-python",
   "name": "python",
   "nbconvert_exporter": "python",
   "pygments_lexer": "ipython3",
   "version": "3.6.9"
  }
 },
 "nbformat": 4,
 "nbformat_minor": 2
}
